{
 "metadata": {
  "language_info": {
   "codemirror_mode": {
    "name": "ipython",
    "version": 3
   },
   "file_extension": ".py",
   "mimetype": "text/x-python",
   "name": "python",
   "nbconvert_exporter": "python",
   "pygments_lexer": "ipython3",
   "version": "3.8.2-final"
  },
  "orig_nbformat": 2,
  "kernelspec": {
   "name": "python3",
   "display_name": "Python 3"
  }
 },
 "nbformat": 4,
 "nbformat_minor": 2,
 "cells": [
  {
   "cell_type": "code",
   "execution_count": 1,
   "metadata": {},
   "outputs": [
    {
     "output_type": "stream",
     "name": "stdout",
     "text": [
      "False\n",
      "2020-12-31\n"
     ]
    }
   ],
   "source": [
    "import calendar\n",
    "import datetime\n",
    "import arrow\n",
    "\n",
    "\n",
    "# Part 1 of problem statement 2\n",
    "# The solution code is kept simple as possible, develop with the use of simple variable\n",
    "# This isLastThursday function take input of date, month, year from user in dd/mm/yyy format\n",
    "# and gives reqired output\n",
    "def isLastThursday(input_date= input('Enter a date to check if the day of thr date is last thursday '\n",
    "                              '\\n(example format: 02/12/2020): ')):\n",
    "    d = datetime.datetime.strptime(input_date, '%d/%m/%Y') # input being converted into format needed\n",
    "\n",
    "    day = d.weekday() # get code of the day(for .weekday().....monday=0  sunday=6\n",
    "    # convert string to int\n",
    "    YE_AR = arrow.get(d).format('YYYY')\n",
    "    Mo_nth = arrow.get(d).format('M')\n",
    "    Da_y = arrow.get(d).format('D')\n",
    "    DAY = int(Da_y)\n",
    "    YEAR = int(YE_AR)\n",
    "    MONTH = int(Mo_nth)\n",
    "\n",
    "    #total numbers of day in the month\n",
    "    no_of_day = calendar.monthrange(YEAR, MONTH)[1]\n",
    "\n",
    "    #As the week consist of 7 days. Therefore if total number of days in the month is subtracted from date of the day\n",
    "    #If the day is last thursday then result of subtraction should be less than 7\n",
    "    if day == 3:\n",
    "        if (no_of_day - DAY) < 7:\n",
    "            print(True)\n",
    "        else:\n",
    "            print(False)\n",
    "    else:\n",
    "        print(False)\n",
    "\n",
    "isLastThursday()\n",
    "\n",
    "\n",
    "# Part 2 of problem statement 2\n",
    "# This LastThInMonth function take input of month, year from user in mm/yyy format\n",
    "def LastThInMonth(input_month = input('Enter a month to find last thursday of that month '\n",
    "                              '\\n(example format: 12/2020): ')):\n",
    "    # Create a datetime.date for the last day of the given month\n",
    "    d= datetime.datetime.strptime(input_month, '%m/%Y')\n",
    "    YE_AR = arrow.get(d).format('YYYY')\n",
    "    Mo_nth = arrow.get(d).format('M')\n",
    "    YEAR = int(YE_AR)\n",
    "    MONTH = int(Mo_nth)\n",
    "    daysInMonth = calendar.monthrange(YEAR, MONTH)[1]   # to find number of days in month\n",
    "    dt = datetime.date(YEAR, MONTH , daysInMonth)\n",
    "\n",
    "    offset = 4 - dt.isoweekday()\n",
    "    if offset > 0: offset -= 7                          # Back up one week if necessary\n",
    "    dt += datetime.timedelta(offset)                    # dt is now date of last Th in month\n",
    "    return dt\n",
    "\n",
    "print(LastThInMonth())\n",
    "\n"
   ]
  }
 ]
}